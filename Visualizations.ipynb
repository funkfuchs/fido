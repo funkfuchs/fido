{
 "cells": [
  {
   "cell_type": "code",
   "execution_count": 2,
   "metadata": {
    "ExecuteTime": {
     "end_time": "2019-04-06T18:52:19.856408Z",
     "start_time": "2019-04-06T18:52:19.062677Z"
    }
   },
   "outputs": [],
   "source": [
    "import numpy as np\n",
    "from sklearn.datasets import make_blobs\n",
    "import pandas as pd\n",
    "\n",
    "from bokeh.plotting import figure, show, output_file, save, reset_output\n",
    "from bokeh.resources import CDN\n",
    "from bokeh.embed import file_html\n",
    "from bokeh.io import output_notebook\n",
    "from bokeh.models import HoverTool"
   ]
  },
  {
   "cell_type": "code",
   "execution_count": 26,
   "metadata": {
    "ExecuteTime": {
     "end_time": "2019-04-06T19:16:10.787795Z",
     "start_time": "2019-04-06T19:16:10.696214Z"
    }
   },
   "outputs": [
    {
     "data": {
      "text/plain": [
       "'/Users/dominikslezak/Documents/Web Tracking/WebAnalyticsDataScience/Visualizations/scatter_plot.html'"
      ]
     },
     "execution_count": 26,
     "metadata": {},
     "output_type": "execute_result"
    }
   ],
   "source": [
    "##################\n",
    "#  Scatter Plot  #\n",
    "##################\n",
    "\n",
    "N = 500\n",
    "\n",
    "data, labels = make_blobs(n_samples=N, n_features=3, cluster_std=1.0, centers=2)\n",
    "data = pd.DataFrame(data)\n",
    "x = data[0]\n",
    "y = data[1]\n",
    "\n",
    "radii = np.random.random(size=N) * 0.2\n",
    "\n",
    "x_color = np.random.random(size=N) * 100\n",
    "y_color = np.random.random(size=N) * 100\n",
    "colors = [\n",
    "    \"#%02x%02x%02x\" % (int(r), int(g), 150) for r, g in zip(50+2*x_color, 30+2*y_color)\n",
    "]\n",
    "\n",
    "p = figure(tools=\"pan\", sizing_mode=\"stretch_both\", toolbar_location=None)\n",
    "p.grid.visible = False\n",
    "p.scatter(x, y, radius=radii,\n",
    "          fill_color=colors, fill_alpha=0.6,\n",
    "          line_color=None)\n",
    "\n",
    "p.add_tools(HoverTool(\n",
    "    tooltips=[(\"User\", \"$index\"),\n",
    "              (\"Flow Index\", \"@radius\"),\n",
    "              (\"X, Y\", \"(@x, @y)\")],\n",
    "    mode=\"mouse\", \n",
    "    point_policy=\"follow_mouse\"\n",
    "))\n",
    "\n",
    "#output_notebook()\n",
    "#show(p)\n",
    "\n",
    "output_file(\"scatter_plot.html\", mode=\"inline\")\n",
    "save(p)"
   ]
  },
  {
   "cell_type": "code",
   "execution_count": 27,
   "metadata": {
    "ExecuteTime": {
     "end_time": "2019-04-06T19:32:28.297880Z",
     "start_time": "2019-04-06T19:32:28.216060Z"
    }
   },
   "outputs": [
    {
     "data": {
      "text/plain": [
       "'/Users/dominikslezak/Documents/Web Tracking/WebAnalyticsDataScience/Visualizations/hexbin_plot_neu.html'"
      ]
     },
     "execution_count": 27,
     "metadata": {},
     "output_type": "execute_result"
    }
   ],
   "source": [
    "############\n",
    "#  Hexbin  #\n",
    "############\n",
    "\n",
    "data, labels = make_blobs(n_samples=500, n_features=2, cluster_std=1.0)\n",
    "data = pd.DataFrame(data)\n",
    "x = data[0]\n",
    "y = data[1]\n",
    "\n",
    "p = figure(match_aspect=True, toolbar_location=None,\n",
    "           tools=\"wheel_zoom,reset\", background_fill_color='#440154', sizing_mode=\"stretch_both\")\n",
    "p.grid.visible = False\n",
    "r, bins = p.hexbin(x, y, size=0.5, hover_color=\"pink\", hover_alpha=0.8)\n",
    "\n",
    "p.circle(x, y, color=\"white\", size=1)\n",
    "\n",
    "p.add_tools(HoverTool(\n",
    "    tooltips=[(\"count\", \"@c\"), (\"(q,r)\", \"(@q, @r)\")],\n",
    "    mode=\"mouse\", point_policy=\"follow_mouse\", renderers=[r]\n",
    "))\n",
    "\n",
    "#output_notebook()\n",
    "#show(p)\n",
    "\n",
    "output_file(\"hexbin_plot_neu.html\", mode=\"inline\")\n",
    "save(p)"
   ]
  }
 ],
 "metadata": {
  "kernelspec": {
   "display_name": "Python 3",
   "language": "python",
   "name": "python3"
  },
  "language_info": {
   "codemirror_mode": {
    "name": "ipython",
    "version": 3
   },
   "file_extension": ".py",
   "mimetype": "text/x-python",
   "name": "python",
   "nbconvert_exporter": "python",
   "pygments_lexer": "ipython3",
   "version": "3.6.3"
  },
  "varInspector": {
   "cols": {
    "lenName": 16,
    "lenType": 16,
    "lenVar": 40
   },
   "kernels_config": {
    "python": {
     "delete_cmd_postfix": "",
     "delete_cmd_prefix": "del ",
     "library": "var_list.py",
     "varRefreshCmd": "print(var_dic_list())"
    },
    "r": {
     "delete_cmd_postfix": ") ",
     "delete_cmd_prefix": "rm(",
     "library": "var_list.r",
     "varRefreshCmd": "cat(var_dic_list()) "
    }
   },
   "types_to_exclude": [
    "module",
    "function",
    "builtin_function_or_method",
    "instance",
    "_Feature"
   ],
   "window_display": false
  }
 },
 "nbformat": 4,
 "nbformat_minor": 2
}
